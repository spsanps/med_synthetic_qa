{
 "cells": [
  {
   "cell_type": "code",
   "execution_count": 7,
   "metadata": {},
   "outputs": [],
   "source": [
    "# 3 types of synthetic dataset\n",
    "# 1. Question and Answer (direct facts from text)\n",
    "# 2. Insight (synthesize new information with its knowledge and text)\n",
    "# 3. What is the metadata, context. Is it changing? \n",
    "\n",
    "# This notebook will be for 1. Question and Answer (direct facts from text)"
   ]
  },
  {
   "cell_type": "markdown",
   "metadata": {},
   "source": [
    "# Dataset"
   ]
  },
  {
   "cell_type": "code",
   "execution_count": 8,
   "metadata": {},
   "outputs": [
    {
     "name": "stdout",
     "output_type": "stream",
     "text": [
      "Physiology_Levy: We are pleased that the following section authors ...\n",
      "Cell_Biology_Alberts: The surface of our planet is populated by living t...\n",
      "Pathoma_Husain: Growth Adaptations, Cellular Injury, and Cell Deat...\n",
      "Psichiatry_DSM-5: PRESIDENT DILIP V. IESTE, M.D.\n",
      "\n",
      "PRESIDENT-ELECT JE...\n",
      "Immunology_Janeway: dendritic cells. 366 9-14 Cell-adhesion molecules ...\n",
      "Anatomy_Gray: What is anatomy?\n",
      "\n",
      "Anatomy includes those structure...\n",
      "Pharmacology_Katzung: (All nonresearch use illegal under federal law.)\n",
      "\n",
      "...\n",
      "Surgery_Schwartz: Part IBasic ConsiderationsBrunicardi_Ch01_p0001-p0...\n",
      "Biochemistry_Lippincott: For additional ancillary materials related to this...\n",
      "Neurology_Adams: We are very pleased to bring you the 11th edition ...\n",
      "First_Aid_Step2: Database of High-Yield Facts\n",
      "\n",
      "The seventh edition ...\n",
      "Obstentrics_Williams: In the olowingpages I have attempted to set orth, ...\n",
      "Histology_Ross: OVERVIEW OF METHODS USED IN HISTOLOGY / 1 TISSUE P...\n",
      "InternalMed_Harrison: xxxviii its related products in new formats. Kim D...\n",
      "Pediatrics_Nelson: The Profession of\n",
      "\n",
      "Karen J. Marcdante and Benjamin...\n",
      "Gynecology_Novak: Jonathan S. Berek Paula J. Adams Hillard\n",
      "\n",
      "We are a...\n",
      "First_Aid_Step1: “Biochemistry is the study of carbon compounds tha...\n",
      "Pathology_Robbins: Plasma Membrane: Protection and Nutrient Acquisiti...\n"
     ]
    }
   ],
   "source": [
    "import os\n",
    "\n",
    "# Dictionary to hold file names and their contents\n",
    "files_content_dict = {}\n",
    "\n",
    "# Directory containing the .txt files\n",
    "directory = './data/en/'\n",
    "\n",
    "# Check if directory exists\n",
    "if not os.path.exists(directory):\n",
    "    print(f\"The directory {directory} does not exist.\")\n",
    "else:\n",
    "    # Loop through all the files in the directory\n",
    "    for filename in os.listdir(directory):\n",
    "        # Construct the full file path\n",
    "        file_path = os.path.join(directory, filename)\n",
    "        # Check if it is a file and has a .txt extension\n",
    "        if os.path.isfile(file_path) and filename.endswith('.txt'):\n",
    "            # Open and read the file content\n",
    "            with open(file_path, 'r', encoding='utf-8') as file:\n",
    "                # Read the contents of the file\n",
    "                content = file.read()\n",
    "                # Add to dictionary with the file name (without extension) as the key\n",
    "                files_content_dict[os.path.splitext(filename)[0]] = content\n",
    "\n",
    "# Printing the content dict just for demonstration purposes\n",
    "for file_name, file_content in files_content_dict.items():\n",
    "    print(f\"{file_name}: {file_content[:50]}...\")  # Print the first 50 characters of each file\n",
    "\n",
    "# You can now use 'files_content_dict' as needed\n"
   ]
  },
  {
   "cell_type": "markdown",
   "metadata": {},
   "source": [
    "#### Let's break down the dataset into groups of 5 paragraphs each"
   ]
  },
  {
   "cell_type": "code",
   "execution_count": 9,
   "metadata": {},
   "outputs": [],
   "source": [
    "def split_into_para_groups(text, n = 3, max_length_group = 128*7):\n",
    "    \"\"\"\n",
    "    Split the text into groups of n paragraphs each.\n",
    "    If the length of the group exceeds max_length_group into groups of length <= max_length_group using for loop to add segments\n",
    "    and NOT checking the length of the group at each step.\n",
    "    because this might add a paragraph that exceeds the max_length_group.\n",
    "    \"\"\"\n",
    "    para = text.split(\"\\n\")\n",
    "    para = [p.strip() for p in para if p.strip() != \"\"]\n",
    "    para_max_len_opt = []\n",
    "    for p in para:\n",
    "        if len(p) > max_length_group:\n",
    "            for i in range(0, len(p), max_length_group):\n",
    "                para_max_len_opt.append(p[i:i+max_length_group])\n",
    "        else:\n",
    "            para_max_len_opt.append(p)\n",
    "    para = para_max_len_opt\n",
    "\n",
    "    para_groups = []\n",
    "    for i in range(0, len(para), n):\n",
    "        para_groups.append(\"\\n\".join(para[i:i+n]))\n",
    "\n",
    "    \n",
    "    return para_groups\n",
    "    \n"
   ]
  },
  {
   "cell_type": "code",
   "execution_count": 10,
   "metadata": {},
   "outputs": [],
   "source": [
    "\n",
    "paragraphs = []\n",
    "file_names = []\n",
    "for file_name, file_content in files_content_dict.items():\n",
    "    # join 3 paragraphs together\n",
    "    paragraphs.extend(split_into_para_groups(file_content, n = 3, max_length_group = 128*5))\n",
    "    file_names.extend([file_name]*(len(paragraphs)-len(file_names)))"
   ]
  },
  {
   "cell_type": "code",
   "execution_count": 11,
   "metadata": {},
   "outputs": [
    {
     "name": "stdout",
     "output_type": "stream",
     "text": [
      "We are pleased that the following section authors have continued as members of the seventh edition team: Drs. Kalman Rubinson and Eric Lang (nervous system), Dr. James Watras (muscle), Dr. Achilles Pappano (cardiovascular system), Drs. Michelle Cloutier and Roger Thrall (respiratory system), Drs. Kim Barrett and Helen Raybould (gastrointestinal system), and Dr. Bruce White (endocrine and reproductive systems). We also welcome the following authors: Dr. Withrow Gil Wier (cardiovascular system), and Dr. John Harrison (endocrine and reproduction systems).\n",
      "As in the previous editions of this textbook, we have attempted to emphasize broad concepts and to minimize the compilation of isolated facts. Each chapter has been written to make the text as lucid, accurate, and current as possible. We have included both clinical and molecular information in each section, as feedback on these features has indicated that this information serves to provide clinical context and new insights into physiologic phenomena at the cellular and molecular levels. New to this edition is a list of sources that the reader can consult for further information on the topics covered in each chapter. We hope that you\n",
      " find this a valuable addition to the book.\n"
     ]
    },
    {
     "data": {
      "text/plain": [
       "94187"
      ]
     },
     "execution_count": 11,
     "metadata": {},
     "output_type": "execute_result"
    }
   ],
   "source": [
    "print(paragraphs[0])\n",
    "len(paragraphs)"
   ]
  },
  {
   "cell_type": "code",
   "execution_count": 12,
   "metadata": {},
   "outputs": [
    {
     "name": "stdout",
     "output_type": "stream",
     "text": [
      "1243\n"
     ]
    }
   ],
   "source": [
    "print(len(paragraphs[0]))"
   ]
  },
  {
   "cell_type": "code",
   "execution_count": 13,
   "metadata": {},
   "outputs": [],
   "source": [
    "import pandas as pd\n",
    "\n",
    "df = pd.DataFrame(paragraphs, columns=[\"paragraph\"])\n",
    "# add a column for length of paragraph\n",
    "\n",
    "df[\"length\"] = df[\"paragraph\"].apply(lambda x: len(x))\n",
    "\n",
    "# describe the length of pa\n",
    "# ragraphs\n",
    "df[\"length\"].describe()\n",
    "\n",
    "# add file name as well\n",
    "df[\"file_name\"] = file_names\n",
    "\n"
   ]
  },
  {
   "cell_type": "code",
   "execution_count": 14,
   "metadata": {},
   "outputs": [
    {
     "data": {
      "text/html": [
       "<div>\n",
       "<style scoped>\n",
       "    .dataframe tbody tr th:only-of-type {\n",
       "        vertical-align: middle;\n",
       "    }\n",
       "\n",
       "    .dataframe tbody tr th {\n",
       "        vertical-align: top;\n",
       "    }\n",
       "\n",
       "    .dataframe thead th {\n",
       "        text-align: right;\n",
       "    }\n",
       "</style>\n",
       "<table border=\"1\" class=\"dataframe\">\n",
       "  <thead>\n",
       "    <tr style=\"text-align: right;\">\n",
       "      <th></th>\n",
       "      <th>paragraph</th>\n",
       "      <th>length</th>\n",
       "      <th>file_name</th>\n",
       "    </tr>\n",
       "  </thead>\n",
       "  <tbody>\n",
       "    <tr>\n",
       "      <th>0</th>\n",
       "      <td>We are pleased that the following section auth...</td>\n",
       "      <td>1243</td>\n",
       "      <td>Physiology_Levy</td>\n",
       "    </tr>\n",
       "    <tr>\n",
       "      <th>1</th>\n",
       "      <td>The human body consists of billions of cells t...</td>\n",
       "      <td>1665</td>\n",
       "      <td>Physiology_Levy</td>\n",
       "    </tr>\n",
       "    <tr>\n",
       "      <th>2</th>\n",
       "      <td>els can be stored and then mobilized when inge...</td>\n",
       "      <td>787</td>\n",
       "      <td>Physiology_Levy</td>\n",
       "    </tr>\n",
       "    <tr>\n",
       "      <th>3</th>\n",
       "      <td>Gastrointestinal tract: Digests and absorbs fu...</td>\n",
       "      <td>270</td>\n",
       "      <td>Physiology_Levy</td>\n",
       "    </tr>\n",
       "    <tr>\n",
       "      <th>4</th>\n",
       "      <td>Endocrine system: Maintains the blood levels o...</td>\n",
       "      <td>852</td>\n",
       "      <td>Physiology_Levy</td>\n",
       "    </tr>\n",
       "  </tbody>\n",
       "</table>\n",
       "</div>"
      ],
      "text/plain": [
       "                                           paragraph  length        file_name\n",
       "0  We are pleased that the following section auth...    1243  Physiology_Levy\n",
       "1  The human body consists of billions of cells t...    1665  Physiology_Levy\n",
       "2  els can be stored and then mobilized when inge...     787  Physiology_Levy\n",
       "3  Gastrointestinal tract: Digests and absorbs fu...     270  Physiology_Levy\n",
       "4  Endocrine system: Maintains the blood levels o...     852  Physiology_Levy"
      ]
     },
     "execution_count": 14,
     "metadata": {},
     "output_type": "execute_result"
    }
   ],
   "source": [
    "df.head()"
   ]
  },
  {
   "cell_type": "code",
   "execution_count": 8,
   "metadata": {},
   "outputs": [
    {
     "name": "stdout",
     "output_type": "stream",
     "text": [
      "The length constant can be related to the electrical properties of the axon according to cable theory because nerve fibers have many of the properties of an electrical cable. In a perfect cable, the insulation surrounding the core conductor prevents all loss of current to the surrounding medium, so that a signal is transmitted along the cable with undiminished strength. If an unmyelinated nerve fiber (discussed later) is compared to an electrical cable, the plasma membrane equates to the insulation and the cytoplasm as the core conductor, but the plasma membrane is not a perfect insulator. Thus the spread of signals depends on the r\n",
      "atio of the membrane resistance to the axial resistance of the axonal cytoplasm (ra). When the ratio of rm to ra is high, less current is lost across the plasma membrane per unit of axonal length, the axon can function better as a cable, and the distance that a signal can be conveyed electrotonically without significant decrement is longer. A useful analogy is to think of the axon as a garden hose with holes poked in it. The more holes there are in the hose, the more water leaks out along its length (analogous to more loss of current when rm is low) and the less water is delivered to its nozzle. According to cable theory, the length\n",
      " constant can be related to axonal resistance and is equal to rm/ra . This relationship can be used to determine how changes in axonal diameter affect the length constant and, hence, how the decay of electrotonic potentials varies. An increase in the diameter of the axon reduces both ra and rm. However, rm is inversely proportional to diameter (because it is related to the circumference of the axon), whereas ra varies inversely to the diameter squared (because it is related to the cross-sectional area of the axon). Thus ra decreases more rapidly than rm does as axonal diameter increases, and the length constant therefore increases (\n",
      "1922\n"
     ]
    }
   ],
   "source": [
    "# find the longest paragraph\n",
    "\n",
    "\n",
    "sample = df[df[\"length\"] == df[\"length\"].max()][\"paragraph\"].values[0]\n",
    "print(sample)\n",
    "print(len(sample))"
   ]
  },
  {
   "cell_type": "code",
   "execution_count": 9,
   "metadata": {},
   "outputs": [],
   "source": [
    "from vllm import LLM, SamplingParams\n",
    "import vllm\n",
    "import torch\n",
    "from typing import List, Callable, Optional\n",
    "from vllm.sampling_params import SamplingParams\n",
    "from vllm.model_executor.input_metadata import InputMetadata\n"
   ]
  },
  {
   "cell_type": "code",
   "execution_count": 10,
   "metadata": {},
   "outputs": [
    {
     "name": "stdout",
     "output_type": "stream",
     "text": [
      "INFO 11-08 23:04:20 llm_engine.py:72] Initializing an LLM engine with config: model='ehartford/dolphin-2.2.1-mistral-7b', tokenizer='ehartford/dolphin-2.2.1-mistral-7b', tokenizer_mode=auto, revision=None, tokenizer_revision=None, trust_remote_code=False, dtype=torch.bfloat16, max_seq_len=32768, download_dir=None, load_format=auto, tensor_parallel_size=1, quantization=None, seed=0)\n"
     ]
    },
    {
     "name": "stderr",
     "output_type": "stream",
     "text": [
      "Special tokens have been added in the vocabulary, make sure the associated word embeddings are fine-tuned or trained.\n",
      "Special tokens have been added in the vocabulary, make sure the associated word embeddings are fine-tuned or trained.\n"
     ]
    },
    {
     "name": "stdout",
     "output_type": "stream",
     "text": [
      "INFO 11-08 23:04:31 llm_engine.py:207] # GPU blocks: 1998, # CPU blocks: 2048\n"
     ]
    }
   ],
   "source": [
    "#base_model_id = \"ehartford/dolphin-2.0-mistral-7b\"\n",
    "#base_model_id = \"HuggingFaceH4/zephyr-7b-alpha\"\n",
    "#base_model_id = \"amazon/MistralLite\"\n",
    "base_model_id = \"ehartford/dolphin-2.2.1-mistral-7b\"\n",
    "llm = LLM(model=base_model_id)\n"
   ]
  },
  {
   "cell_type": "code",
   "execution_count": 11,
   "metadata": {},
   "outputs": [],
   "source": [
    "template = \"\"\"<|im_start|>system\n",
    "You will be asked questions which you can only answer with the information below:\n",
    "## Context ##\n",
    "{}\n",
    "#############\n",
    "You will accurately answer these questions which will be directly about the information in the context. You will only be asked one question at a time. <|im_end|>\n",
    "<|im_start|>user\n",
    "\"\"\"\n",
    "\n",
    "sampling_params = SamplingParams(temperature=0.3, max_tokens=512)"
   ]
  },
  {
   "cell_type": "code",
   "execution_count": 12,
   "metadata": {},
   "outputs": [],
   "source": [
    "def generate_prompt(text):\n",
    "    return template.format(text)"
   ]
  },
  {
   "cell_type": "code",
   "execution_count": 13,
   "metadata": {},
   "outputs": [],
   "source": [
    "prompts = [generate_prompt(p) for p in paragraphs]"
   ]
  },
  {
   "cell_type": "code",
   "execution_count": 14,
   "metadata": {},
   "outputs": [
    {
     "name": "stdout",
     "output_type": "stream",
     "text": [
      "<|im_start|>system\n",
      "You will be asked questions which you can only answer with the information below:\n",
      "## Context ##\n",
      "We are pleased that the following section authors have continued as members of the seventh edition team: Drs. Kalman Rubinson and Eric Lang (nervous system), Dr. James Watras (muscle), Dr. Achilles Pappano (cardiovascular system), Drs. Michelle Cloutier and Roger Thrall (respiratory system), Drs. Kim Barrett and Helen Raybould (gastrointestinal system), and Dr. Bruce White (endocrine and reproductive systems). We also welcome the following authors: Dr. Withrow Gil Wier (cardiovascular system), and Dr. John Harrison (endocrine and reproduction systems).\n",
      "As in the previous editions of this textbook, we have attempted to emphasize broad concepts and to minimize the compilation of isolated facts. Each chapter has been written to make the text as lucid, accurate, and current as possible. We have included both clinical and molecular information in each section, as feedback on these features has indicated that this information serves to provide clinical context and new insights into physiologic phenomena at the cellular and molecular levels. New to this edition is a list of sources that the reader can consult for further information on the topics covered in each chapter. We hope that you\n",
      " find this a valuable addition to the book.\n",
      "#############\n",
      "You will accurately answer these questions which will be directly about the information in the context. You will only be asked one question at a time. <|im_end|>\n",
      "<|im_start|>user\n",
      "\n"
     ]
    }
   ],
   "source": [
    "print(prompts[0])"
   ]
  },
  {
   "cell_type": "code",
   "execution_count": 15,
   "metadata": {},
   "outputs": [],
   "source": [
    "# Model"
   ]
  },
  {
   "cell_type": "code",
   "execution_count": 16,
   "metadata": {},
   "outputs": [],
   "source": [
    "#outputs = llm.generate(prompts, sampling_params)"
   ]
  },
  {
   "cell_type": "code",
   "execution_count": 17,
   "metadata": {},
   "outputs": [],
   "source": [
    "#output_text = [output.outputs[0].text for output in outputs]"
   ]
  },
  {
   "cell_type": "code",
   "execution_count": 18,
   "metadata": {},
   "outputs": [],
   "source": [
    "#print(output_text[789])"
   ]
  },
  {
   "cell_type": "code",
   "execution_count": 19,
   "metadata": {},
   "outputs": [
    {
     "data": {
      "text/plain": [
       "'df[\"prompt\"] = prompts\\ndf[\"output\"] = output_text\\n\\ndf.head()\\n\\n# save the dataframe to a csv file\\ndf.to_csv(\"data/qa_dataset1.csv\", index=False)\\n'"
      ]
     },
     "execution_count": 19,
     "metadata": {},
     "output_type": "execute_result"
    }
   ],
   "source": [
    "# add paragraphs and prompts and outputs to a dataframe\n",
    "\n",
    "\"\"\"df[\"prompt\"] = prompts\n",
    "df[\"output\"] = output_text\n",
    "\n",
    "df.head()\n",
    "\n",
    "# save the dataframe to a csv file\n",
    "df.to_csv(\"data/qa_dataset1.csv\", index=False)\n",
    "\"\"\""
   ]
  },
  {
   "cell_type": "code",
   "execution_count": 20,
   "metadata": {},
   "outputs": [
    {
     "data": {
      "text/plain": [
       "'new_prompts = [p + o for p, o in zip(prompts, output_text)]\\nnew_prompts = [p.strip() + \"\\n<|im_start|>assistant\\n\" for p in new_prompts]\\nprint(new_prompts[0])'"
      ]
     },
     "execution_count": 20,
     "metadata": {},
     "output_type": "execute_result"
    }
   ],
   "source": [
    "\"\"\"new_prompts = [p + o for p, o in zip(prompts, output_text)]\n",
    "new_prompts = [p.strip() + \"\\n<|im_start|>assistant\\n\" for p in new_prompts]\n",
    "print(new_prompts[0])\"\"\""
   ]
  },
  {
   "cell_type": "code",
   "execution_count": 21,
   "metadata": {},
   "outputs": [
    {
     "name": "stderr",
     "output_type": "stream",
     "text": [
      "Processed prompts:   0%|          | 0/10 [00:00<?, ?it/s]"
     ]
    },
    {
     "name": "stderr",
     "output_type": "stream",
     "text": [
      "Processed prompts: 100%|██████████| 10/10 [00:00<00:00, 12.45it/s]\n",
      "Processed prompts: 100%|██████████| 10/10 [00:02<00:00,  3.49it/s]\n"
     ]
    },
    {
     "name": "stdout",
     "output_type": "stream",
     "text": [
      "Done with 0 iteration\n"
     ]
    },
    {
     "name": "stderr",
     "output_type": "stream",
     "text": [
      "Processed prompts: 100%|██████████| 10/10 [00:00<00:00, 11.46it/s]\n",
      "Processed prompts: 100%|██████████| 10/10 [00:02<00:00,  3.85it/s]\n"
     ]
    },
    {
     "name": "stdout",
     "output_type": "stream",
     "text": [
      "Done with 1 iteration\n"
     ]
    },
    {
     "name": "stderr",
     "output_type": "stream",
     "text": [
      "Processed prompts: 100%|██████████| 10/10 [00:00<00:00, 10.68it/s]\n",
      "Processed prompts: 100%|██████████| 10/10 [00:02<00:00,  4.34it/s]\n"
     ]
    },
    {
     "name": "stdout",
     "output_type": "stream",
     "text": [
      "Done with 2 iteration\n"
     ]
    },
    {
     "name": "stderr",
     "output_type": "stream",
     "text": [
      "Processed prompts: 100%|██████████| 10/10 [00:01<00:00,  8.93it/s]\n",
      "Processed prompts: 100%|██████████| 10/10 [00:02<00:00,  3.61it/s]\n"
     ]
    },
    {
     "name": "stdout",
     "output_type": "stream",
     "text": [
      "Done with 3 iteration\n"
     ]
    },
    {
     "name": "stderr",
     "output_type": "stream",
     "text": [
      "Processed prompts: 100%|██████████| 10/10 [00:01<00:00,  9.31it/s]\n",
      "Processed prompts: 100%|██████████| 10/10 [00:03<00:00,  3.02it/s]"
     ]
    },
    {
     "name": "stdout",
     "output_type": "stream",
     "text": [
      "Done with 4 iteration\n"
     ]
    },
    {
     "name": "stderr",
     "output_type": "stream",
     "text": [
      "\n"
     ]
    }
   ],
   "source": [
    "# let's do back and forth conversation\n",
    "# we will keep track of the output\n",
    "\n",
    "new_prompts = prompts\n",
    "df = pd.DataFrame(new_prompts, columns=[\"prompt\"])\n",
    "\n",
    "\n",
    "for i in range(5):\n",
    "    outputs = llm.generate(new_prompts, sampling_params)\n",
    "    output_text = [output.outputs[0].text for output in outputs]\n",
    "    new_prompts = [p + o for p, o in zip(new_prompts, output_text)]\n",
    "    new_prompts = [p.strip() + \"<|im_end|>\\n<|im_start|>assistant\\n\" for p in new_prompts]\n",
    "    #prompts = new_prompts\n",
    "    # add to dataframe\n",
    "    df[\"prompt\"] = new_prompts\n",
    "    df[\"output\"] = output_text\n",
    "    df.to_csv(f\"data/qa_dataset{i}.csv\", index=False)\n",
    "    outputs = llm.generate(new_prompts, sampling_params)\n",
    "    output_text = [output.outputs[0].text for output in outputs]\n",
    "    new_prompts = [p + o for p, o in zip(new_prompts, output_text)]\n",
    "    new_prompts = [p.strip() + \"<|im_end|>\\n<|im_start|>user\\n\" for p in new_prompts]\n",
    "    #prompts = new_prompts\n",
    "    # add to dataframe\n",
    "    df[\"prompt\"] = new_prompts\n",
    "    df[\"output\"] = output_text\n",
    "    df.to_csv(f\"data/qa_dataset{i}.csv\", index=False)\n",
    "    print(f\"Done with {i} iteration\")"
   ]
  },
  {
   "cell_type": "code",
   "execution_count": 24,
   "metadata": {},
   "outputs": [
    {
     "name": "stdout",
     "output_type": "stream",
     "text": [
      "<|im_start|>system\n",
      "You will be asked questions which you can only answer with the information below:\n",
      "## Context ##\n",
      "els can be stored and then mobilized when ingestion of the precursors is not possible. The storage forms of these fuels are triglycerides (stored in adipose tissue), glycogen (stored in the liver and skeletal muscle), and protein. The maintenance of adequate levels of cellular fuels in the blood is a complex process involving the following tissues, organs, and organ systems:\n",
      "Liver: Converts precursors into fuel storage forms (e.g., glucose → glycogen) when food is ingested, and converts storage forms to cellular fuels during fasting (e.g., glycogen → glucose and amino acids → glucose).\n",
      "Skeletal muscle: Like the liver, stores fuel (glycogen and protein) and converts glycogen and protein to fuels (e.g., glucose) or fuel intermediates (e.g., protein → amino acids) during fasting.\n",
      "#############\n",
      "You will accurately answer these questions which will be directly about the information in the context. You will only be asked one question at a time. <|im_end|>\n",
      "<|im_start|>user\n",
      " What is the primary function of the liver in relation to cellular fuels?<|im_end|>\n",
      "<|im_start|>assistant\n",
      " The primary function of the liver in relation to cellular fuels is to convert precursors into fuel storage forms (e.g., glucose → glycogen) when food is ingested, and to convert storage forms to cellular fuels during fasting (e.g., glycogen → glucose and amino acids → glucose).<|im_end|>\n",
      "<|im_start|>user\n",
      " What is the primary function of skeletal muscle in relation to cellular fuels?<|im_end|>\n",
      "<|im_start|>assistant\n",
      " The primary function of skeletal muscle in relation to cellular fuels is to store fuel (glycogen and protein) and convert glycogen and protein to fuels (e.g., glucose) or fuel intermediates (e.g., protein → amino acids) during fasting.<|im_end|>\n",
      "<|im_start|>user\n",
      " What are the three storage forms of fuels mentioned in the context?<|im_end|>\n",
      "<|im_start|>assistant\n",
      " The three storage forms of fuels mentioned in the context are triglycerides, glycogen, and protein.<|im_end|>\n",
      "<|im_start|>user\n",
      " What is the role of the liver in maintaining adequate levels of cellular fuels in the blood?<|im_end|>\n",
      "<|im_start|>assistant\n",
      " The liver plays a crucial role in maintaining adequate levels of cellular fuels in the blood by converting precursors into fuel storage forms (e.g., glucose → glycogen) when food is ingested, and by converting storage forms to cellular fuels during fasting (e.g., glycogen → glucose and amino acids → glucose).<|im_end|>\n",
      "<|im_start|>user\n",
      " What is the role of skeletal muscle in maintaining adequate levels of cellular fuels in the blood?<|im_end|>\n",
      "<|im_start|>assistant\n",
      " The role of skeletal muscle in maintaining adequate levels of cellular fuels in the blood is to store fuel (glycogen and protein) and convert glycogen and protein to fuels (e.g., glucose) or fuel intermediates (e.g., protein → amino acids) during fasting.<|im_end|>\n",
      "<|im_start|>user\n",
      "\n"
     ]
    }
   ],
   "source": [
    "print(new_prompts[2])"
   ]
  },
  {
   "cell_type": "code",
   "execution_count": 15,
   "metadata": {},
   "outputs": [
    {
     "data": {
      "text/html": [
       "<div>\n",
       "<style scoped>\n",
       "    .dataframe tbody tr th:only-of-type {\n",
       "        vertical-align: middle;\n",
       "    }\n",
       "\n",
       "    .dataframe tbody tr th {\n",
       "        vertical-align: top;\n",
       "    }\n",
       "\n",
       "    .dataframe thead th {\n",
       "        text-align: right;\n",
       "    }\n",
       "</style>\n",
       "<table border=\"1\" class=\"dataframe\">\n",
       "  <thead>\n",
       "    <tr style=\"text-align: right;\">\n",
       "      <th></th>\n",
       "      <th>prompt</th>\n",
       "      <th>output</th>\n",
       "    </tr>\n",
       "  </thead>\n",
       "  <tbody>\n",
       "    <tr>\n",
       "      <th>0</th>\n",
       "      <td>&lt;|im_start|&gt;system\\nYou will be asked question...</td>\n",
       "      <td>The authors of the gastrointestinal system se...</td>\n",
       "    </tr>\n",
       "    <tr>\n",
       "      <th>1</th>\n",
       "      <td>&lt;|im_start|&gt;system\\nYou will be asked question...</td>\n",
       "      <td>The cellular fuels that are present in the bl...</td>\n",
       "    </tr>\n",
       "    <tr>\n",
       "      <th>2</th>\n",
       "      <td>&lt;|im_start|&gt;system\\nYou will be asked question...</td>\n",
       "      <td>The process when the liver converts precursor...</td>\n",
       "    </tr>\n",
       "    <tr>\n",
       "      <th>3</th>\n",
       "      <td>&lt;|im_start|&gt;system\\nYou will be asked question...</td>\n",
       "      <td>The relationship between the gastrointestinal...</td>\n",
       "    </tr>\n",
       "    <tr>\n",
       "      <th>4</th>\n",
       "      <td>&lt;|im_start|&gt;system\\nYou will be asked question...</td>\n",
       "      <td>In the endocrine system, insulin and glucagon...</td>\n",
       "    </tr>\n",
       "  </tbody>\n",
       "</table>\n",
       "</div>"
      ],
      "text/plain": [
       "                                              prompt  \\\n",
       "0  <|im_start|>system\\nYou will be asked question...   \n",
       "1  <|im_start|>system\\nYou will be asked question...   \n",
       "2  <|im_start|>system\\nYou will be asked question...   \n",
       "3  <|im_start|>system\\nYou will be asked question...   \n",
       "4  <|im_start|>system\\nYou will be asked question...   \n",
       "\n",
       "                                              output  \n",
       "0   The authors of the gastrointestinal system se...  \n",
       "1   The cellular fuels that are present in the bl...  \n",
       "2   The process when the liver converts precursor...  \n",
       "3   The relationship between the gastrointestinal...  \n",
       "4   In the endocrine system, insulin and glucagon...  "
      ]
     },
     "execution_count": 15,
     "metadata": {},
     "output_type": "execute_result"
    }
   ],
   "source": [
    "# load qa_dataset3.csv\n",
    "\n",
    "import pandas as pd\n",
    "\n",
    "df2 = pd.read_csv(\"data/qa_dataset3.csv\")\n",
    "df2.head()"
   ]
  },
  {
   "cell_type": "code",
   "execution_count": 17,
   "metadata": {},
   "outputs": [
    {
     "name": "stdout",
     "output_type": "stream",
     "text": [
      "<|im_start|>system\n",
      "You will be asked questions which you can only answer with the information below:\n",
      "## Context ##\n",
      "Synthesis of anti-sense (–) RNA template RNA replication\n",
      "Fig. 16.11 Life cycle of hepatitis C. Viral entry, replication, assembly, and budding are shown, emphasizing steps that can be effectively targeted with anti-viral drugs.\n",
      "Fortunately, recent years have seen dramatic improvements in treatment of HCV infection that stem from development of drugs that specifically target the viral protease, RNA polymerase, and NS5A protein, all of which are required for production of virus (\n",
      "#############\n",
      "You will accurately answer these questions which will be directly about the information in the context. You will only be asked one question at a time. <|im_end|>\n",
      "<|im_start|>user\n",
      " What are the three proteins that are required for production of HCV virus?<|im_end|>\n",
      "<|im_start|>assistant\n",
      " The three proteins that are required for production of HCV virus are the viral protease, RNA polymerase, and NS5A protein.<|im_end|>\n",
      "<|im_start|>user\n",
      " What is the name of the figure that shows the life cycle of hepatitis C, including viral entry, replication, assembly, and budding?<|im_end|>\n",
      "<|im_start|>assistant\n",
      " The figure that shows the life cycle of hepatitis C, including viral entry, replication, assembly, and budding is Figure 16.11.<|im_end|>\n",
      "<|im_start|>user\n",
      " What are the steps in the life cycle of hepatitis C that can be effectively targeted with anti-viral drugs?<|im_end|>\n",
      "<|im_start|>assistant\n",
      " The steps in the life cycle of hepatitis C that can be effectively targeted with anti-viral drugs are viral entry, replication, assembly, and budding.<|im_end|>\n",
      "<|im_start|>user\n",
      " What is the term used to describe the synthesis of anti-sense (–) RNA template RNA replication?<|im_end|>\n",
      "<|im_start|>assistant\n",
      " The term used to describe the synthesis of anti-sense (–) RNA template RNA replication is \"synthesis of anti-sense (–) RNA template.\"<|im_end|>\n",
      "<|im_start|>user\n",
      "\n"
     ]
    }
   ],
   "source": [
    "# print a random prompt\n",
    "\n",
    "import random\n",
    "\n",
    "# random.seed(42)\n",
    "\n",
    "random_index = random.randint(0, len(df2)-1)\n",
    "\n",
    "print(df2.iloc[random_index][\"prompt\"])\n"
   ]
  },
  {
   "cell_type": "code",
   "execution_count": 20,
   "metadata": {},
   "outputs": [],
   "source": [
    "# ensure all \"paragraph\" in df is present in corresponding \"prompt\"\n",
    "\n",
    "# assert len\n",
    "assert len(df2) == len(df)\n",
    "\n",
    "# check if all paragraphs are present in the prompt\n",
    "for i in range(len(df)):\n",
    "    assert df.iloc[i][\"paragraph\"] in df2.iloc[i][\"prompt\"]"
   ]
  },
  {
   "cell_type": "code",
   "execution_count": 21,
   "metadata": {},
   "outputs": [
    {
     "data": {
      "text/html": [
       "<div>\n",
       "<style scoped>\n",
       "    .dataframe tbody tr th:only-of-type {\n",
       "        vertical-align: middle;\n",
       "    }\n",
       "\n",
       "    .dataframe tbody tr th {\n",
       "        vertical-align: top;\n",
       "    }\n",
       "\n",
       "    .dataframe thead th {\n",
       "        text-align: right;\n",
       "    }\n",
       "</style>\n",
       "<table border=\"1\" class=\"dataframe\">\n",
       "  <thead>\n",
       "    <tr style=\"text-align: right;\">\n",
       "      <th></th>\n",
       "      <th>prompt</th>\n",
       "      <th>output</th>\n",
       "      <th>paragraph</th>\n",
       "      <th>length</th>\n",
       "      <th>file_name</th>\n",
       "    </tr>\n",
       "  </thead>\n",
       "  <tbody>\n",
       "    <tr>\n",
       "      <th>0</th>\n",
       "      <td>&lt;|im_start|&gt;system\\nYou will be asked question...</td>\n",
       "      <td>The authors of the gastrointestinal system se...</td>\n",
       "      <td>We are pleased that the following section auth...</td>\n",
       "      <td>1243</td>\n",
       "      <td>Physiology_Levy</td>\n",
       "    </tr>\n",
       "    <tr>\n",
       "      <th>1</th>\n",
       "      <td>&lt;|im_start|&gt;system\\nYou will be asked question...</td>\n",
       "      <td>The cellular fuels that are present in the bl...</td>\n",
       "      <td>The human body consists of billions of cells t...</td>\n",
       "      <td>1665</td>\n",
       "      <td>Physiology_Levy</td>\n",
       "    </tr>\n",
       "    <tr>\n",
       "      <th>2</th>\n",
       "      <td>&lt;|im_start|&gt;system\\nYou will be asked question...</td>\n",
       "      <td>The process when the liver converts precursor...</td>\n",
       "      <td>els can be stored and then mobilized when inge...</td>\n",
       "      <td>787</td>\n",
       "      <td>Physiology_Levy</td>\n",
       "    </tr>\n",
       "    <tr>\n",
       "      <th>3</th>\n",
       "      <td>&lt;|im_start|&gt;system\\nYou will be asked question...</td>\n",
       "      <td>The relationship between the gastrointestinal...</td>\n",
       "      <td>Gastrointestinal tract: Digests and absorbs fu...</td>\n",
       "      <td>270</td>\n",
       "      <td>Physiology_Levy</td>\n",
       "    </tr>\n",
       "    <tr>\n",
       "      <th>4</th>\n",
       "      <td>&lt;|im_start|&gt;system\\nYou will be asked question...</td>\n",
       "      <td>In the endocrine system, insulin and glucagon...</td>\n",
       "      <td>Endocrine system: Maintains the blood levels o...</td>\n",
       "      <td>852</td>\n",
       "      <td>Physiology_Levy</td>\n",
       "    </tr>\n",
       "  </tbody>\n",
       "</table>\n",
       "</div>"
      ],
      "text/plain": [
       "                                              prompt  \\\n",
       "0  <|im_start|>system\\nYou will be asked question...   \n",
       "1  <|im_start|>system\\nYou will be asked question...   \n",
       "2  <|im_start|>system\\nYou will be asked question...   \n",
       "3  <|im_start|>system\\nYou will be asked question...   \n",
       "4  <|im_start|>system\\nYou will be asked question...   \n",
       "\n",
       "                                              output  \\\n",
       "0   The authors of the gastrointestinal system se...   \n",
       "1   The cellular fuels that are present in the bl...   \n",
       "2   The process when the liver converts precursor...   \n",
       "3   The relationship between the gastrointestinal...   \n",
       "4   In the endocrine system, insulin and glucagon...   \n",
       "\n",
       "                                           paragraph  length        file_name  \n",
       "0  We are pleased that the following section auth...    1243  Physiology_Levy  \n",
       "1  The human body consists of billions of cells t...    1665  Physiology_Levy  \n",
       "2  els can be stored and then mobilized when inge...     787  Physiology_Levy  \n",
       "3  Gastrointestinal tract: Digests and absorbs fu...     270  Physiology_Levy  \n",
       "4  Endocrine system: Maintains the blood levels o...     852  Physiology_Levy  "
      ]
     },
     "execution_count": 21,
     "metadata": {},
     "output_type": "execute_result"
    }
   ],
   "source": [
    "# merge the two dataframes\n",
    "\n",
    "df2[\"paragraph\"] = df[\"paragraph\"]\n",
    "df2[\"length\"] = df[\"length\"]\n",
    "df2[\"file_name\"] = df[\"file_name\"]\n",
    "\n",
    "df2.head()"
   ]
  },
  {
   "cell_type": "code",
   "execution_count": null,
   "metadata": {},
   "outputs": [],
   "source": [
    "df2.to_csv(\"data/qa_dataset4_complete.csv\", index=False)"
   ]
  }
 ],
 "metadata": {
  "kernelspec": {
   "display_name": "llm",
   "language": "python",
   "name": "python3"
  },
  "language_info": {
   "codemirror_mode": {
    "name": "ipython",
    "version": 3
   },
   "file_extension": ".py",
   "mimetype": "text/x-python",
   "name": "python",
   "nbconvert_exporter": "python",
   "pygments_lexer": "ipython3",
   "version": "3.10.13"
  }
 },
 "nbformat": 4,
 "nbformat_minor": 2
}
