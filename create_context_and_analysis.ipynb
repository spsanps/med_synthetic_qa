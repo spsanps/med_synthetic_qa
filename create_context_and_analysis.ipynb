{
 "cells": [
  {
   "cell_type": "code",
   "execution_count": 1,
   "metadata": {},
   "outputs": [
    {
     "name": "stdout",
     "output_type": "stream",
     "text": [
      "Physiology_Levy: We are pleased that the following section authors ...\n",
      "Cell_Biology_Alberts: The surface of our planet is populated by living t...\n",
      "Pathoma_Husain: Growth Adaptations, Cellular Injury, and Cell Deat...\n",
      "Psichiatry_DSM-5: PRESIDENT DILIP V. IESTE, M.D.\n",
      "\n",
      "PRESIDENT-ELECT JE...\n",
      "Immunology_Janeway: dendritic cells. 366 9-14 Cell-adhesion molecules ...\n",
      "Anatomy_Gray: What is anatomy?\n",
      "\n",
      "Anatomy includes those structure...\n",
      "Pharmacology_Katzung: (All nonresearch use illegal under federal law.)\n",
      "\n",
      "...\n",
      "Surgery_Schwartz: Part IBasic ConsiderationsBrunicardi_Ch01_p0001-p0...\n",
      "Biochemistry_Lippincott: For additional ancillary materials related to this...\n",
      "Neurology_Adams: We are very pleased to bring you the 11th edition ...\n",
      "First_Aid_Step2: Database of High-Yield Facts\n",
      "\n",
      "The seventh edition ...\n",
      "Obstentrics_Williams: In the olowingpages I have attempted to set orth, ...\n",
      "Histology_Ross: OVERVIEW OF METHODS USED IN HISTOLOGY / 1 TISSUE P...\n",
      "InternalMed_Harrison: xxxviii its related products in new formats. Kim D...\n",
      "Pediatrics_Nelson: The Profession of\n",
      "\n",
      "Karen J. Marcdante and Benjamin...\n",
      "Gynecology_Novak: Jonathan S. Berek Paula J. Adams Hillard\n",
      "\n",
      "We are a...\n",
      "First_Aid_Step1: “Biochemistry is the study of carbon compounds tha...\n",
      "Pathology_Robbins: Plasma Membrane: Protection and Nutrient Acquisiti...\n"
     ]
    }
   ],
   "source": [
    "import os\n",
    "\n",
    "# Dictionary to hold file names and their contents\n",
    "files_content_dict = {}\n",
    "\n",
    "# Directory containing the .txt files\n",
    "directory = './data/en/'\n",
    "\n",
    "# Check if directory exists\n",
    "if not os.path.exists(directory):\n",
    "    print(f\"The directory {directory} does not exist.\")\n",
    "else:\n",
    "    # Loop through all the files in the directory\n",
    "    for filename in os.listdir(directory):\n",
    "        # Construct the full file path\n",
    "        file_path = os.path.join(directory, filename)\n",
    "        # Check if it is a file and has a .txt extension\n",
    "        if os.path.isfile(file_path) and filename.endswith('.txt'):\n",
    "            # Open and read the file content\n",
    "            with open(file_path, 'r', encoding='utf-8') as file:\n",
    "                # Read the contents of the file\n",
    "                content = file.read()\n",
    "                # Add to dictionary with the file name (without extension) as the key\n",
    "                files_content_dict[os.path.splitext(filename)[0]] = content\n",
    "\n",
    "# Printing the content dict just for demonstration purposes\n",
    "for file_name, file_content in files_content_dict.items():\n",
    "    print(f\"{file_name}: {file_content[:50]}...\")  # Print the first 50 characters of each file\n",
    "\n",
    "# You can now use 'files_content_dict' as needed\n"
   ]
  },
  {
   "cell_type": "code",
   "execution_count": 2,
   "metadata": {},
   "outputs": [],
   "source": [
    "def split_into_para_groups(text, n = 3, max_length_group = 128*7):\n",
    "    \"\"\"\n",
    "    Split the text into groups of n paragraphs each.\n",
    "    If the length of the group exceeds max_length_group into groups of length <= max_length_group using for loop to add segments\n",
    "    and NOT checking the length of the group at each step.\n",
    "    because this might add a paragraph that exceeds the max_length_group.\n",
    "    \"\"\"\n",
    "    para = text.split(\"\\n\")\n",
    "    para = [p.strip() for p in para if p.strip() != \"\"]\n",
    "    para_max_len_opt = []\n",
    "    for p in para:\n",
    "        if len(p) > max_length_group:\n",
    "            for i in range(0, len(p), max_length_group):\n",
    "                para_max_len_opt.append(p[i:i+max_length_group])\n",
    "        else:\n",
    "            para_max_len_opt.append(p)\n",
    "    para = para_max_len_opt\n",
    "\n",
    "    para_groups = []\n",
    "    for i in range(0, len(para), n):\n",
    "        para_groups.append(\"\\n\".join(para[i:i+n]))\n",
    "\n",
    "    \n",
    "    return para_groups\n",
    "    \n"
   ]
  },
  {
   "cell_type": "code",
   "execution_count": 3,
   "metadata": {},
   "outputs": [],
   "source": [
    "\n",
    "# create a dict of file_name and para_groups\n",
    "\n",
    "files_para_groups_dict = {}\n",
    "\n",
    "for file_name, file_content in files_content_dict.items():\n",
    "    files_para_groups_dict[file_name] = split_into_para_groups(file_content, n = 3, max_length_group = 128*7)"
   ]
  },
  {
   "cell_type": "code",
   "execution_count": 4,
   "metadata": {},
   "outputs": [
    {
     "name": "stdout",
     "output_type": "stream",
     "text": [
      "dict_keys(['Physiology_Levy', 'Cell_Biology_Alberts', 'Pathoma_Husain', 'Psichiatry_DSM-5', 'Immunology_Janeway', 'Anatomy_Gray', 'Pharmacology_Katzung', 'Surgery_Schwartz', 'Biochemistry_Lippincott', 'Neurology_Adams', 'First_Aid_Step2', 'Obstentrics_Williams', 'Histology_Ross', 'InternalMed_Harrison', 'Pediatrics_Nelson', 'Gynecology_Novak', 'First_Aid_Step1', 'Pathology_Robbins'])\n"
     ]
    }
   ],
   "source": [
    "print(files_para_groups_dict.keys())            "
   ]
  },
  {
   "cell_type": "code",
   "execution_count": 5,
   "metadata": {},
   "outputs": [
    {
     "data": {
      "text/plain": [
       "['We are pleased that the following section authors have continued as members of the seventh edition team: Drs. Kalman Rubinson and Eric Lang (nervous system), Dr. James Watras (muscle), Dr. Achilles Pappano (cardiovascular system), Drs. Michelle Cloutier and Roger Thrall (respiratory system), Drs. Kim Barrett and Helen Raybould (gastrointestinal system), and Dr. Bruce White (endocrine and reproductive systems). We also welcome the following authors: Dr. Withrow Gil Wier (cardiovascular system), and Dr. John Harrison (endocrine and reproduction systems).\\nAs in the previous editions of this textbook, we have attempted to emphasize broad concepts and to minimize the compilation of isolated facts. Each chapter has been written to make the text as lucid, accurate, and current as possible. We have included both clinical and molecular information in each section, as feedback on these features has indicated that this information serves to provide clinical context and new insights into physiologic phenomena at the cellular and molecular levels. New to this edition is a list of sources that the reader can consult for further information on the topics covered in each chapter. We hope that you find this a valuable addition to the book.\\nThe human body consists of billions of cells that are organized into tissues (e.g., muscle, epithelia, and nervous tissue) and organ systems (e.g., nervous, cardiovascular, respiratory, renal, gastrointestinal, endocrine, and reproductive). For these tissues and organ systems to function properly and thus allow humans to live and carry out daily activities, several general conditions must be met. First and foremost, the cells within the body must survive. Survival requires adequate cellular energy supplies, maintenance of an appropriate intracellular milieu, and defense against a hostile external environment. Once cell survival is ensured, the cell can then perform its designated or specialized function (e.g., contraction by skeletal muscle cells). Ultimately, the function of cells, tissues, and organs must be coordinated and regulated. All of these functions are the essence of the d',\n",
       " 'iscipline of physiology and are presented throughout this book. What follows is a brief introduction to these general concepts.\\nCells need a constant supply of energy. This energy is derived from the hydrolysis of adenosine triphosphate (ATP). If not replenished, the cellular ATP supply would be depleted in most cells in less than 1 minute. Thus, ATP must be continuously synthesized. This in turn requires a steady supply of cellular fuels. However, the cellular fuels (e.g., glucose, fatty acids, and ketoacids) are present in the blood at levels that can support cellular metabolism only for a few minutes. The blood levels of these cellular fuels are maintained through the ingestion of precursors (i.e., carbohydrates, proteins, and fats). In addition, these fuels can be stored and then mobilized when ingestion of the precursors is not possible. The storage forms of these fuels are triglycerides (stored in adipose tissue), glycogen (stored in the liver and skeletal muscle), and protein. The maintenance of adequa\\nte levels of cellular fuels in the blood is a complex process involving the following tissues, organs, and organ systems:']"
      ]
     },
     "execution_count": 5,
     "metadata": {},
     "output_type": "execute_result"
    }
   ],
   "source": [
    "files_para_groups_dict['Physiology_Levy'][:2]"
   ]
  },
  {
   "cell_type": "code",
   "execution_count": 6,
   "metadata": {},
   "outputs": [
    {
     "name": "stdout",
     "output_type": "stream",
     "text": [
      "INFO 11-10 14:27:13 llm_engine.py:72] Initializing an LLM engine with config: model='ehartford/dolphin-2.2.1-mistral-7b', tokenizer='ehartford/dolphin-2.2.1-mistral-7b', tokenizer_mode=auto, revision=None, tokenizer_revision=None, trust_remote_code=False, dtype=torch.bfloat16, max_seq_len=32768, download_dir=None, load_format=auto, tensor_parallel_size=1, quantization=None, seed=0)\n"
     ]
    },
    {
     "name": "stderr",
     "output_type": "stream",
     "text": [
      "Special tokens have been added in the vocabulary, make sure the associated word embeddings are fine-tuned or trained.\n",
      "Special tokens have been added in the vocabulary, make sure the associated word embeddings are fine-tuned or trained.\n"
     ]
    },
    {
     "name": "stdout",
     "output_type": "stream",
     "text": [
      "INFO 11-10 14:27:24 llm_engine.py:207] # GPU blocks: 1998, # CPU blocks: 2048\n"
     ]
    }
   ],
   "source": [
    "# conext bot\n",
    "\n",
    "from vllm import LLM, SamplingParams\n",
    "import vllm\n",
    "import torch\n",
    "from typing import List, Callable, Optional\n",
    "from vllm.sampling_params import SamplingParams\n",
    "from vllm.model_executor.input_metadata import InputMetadata\n",
    "#base_model_id = \"ehartford/dolphin-2.0-mistral-7b\"\n",
    "#base_model_id = \"HuggingFaceH4/zephyr-7b-alpha\"\n",
    "#base_model_id = \"amazon/MistralLite\"\n",
    "base_model_id = \"ehartford/dolphin-2.2.1-mistral-7b\"\n",
    "llm = LLM(model=base_model_id)\n"
   ]
  },
  {
   "cell_type": "code",
   "execution_count": 151,
   "metadata": {},
   "outputs": [],
   "source": [
    "template = \"\"\"<|im_start|>system\n",
    "You will determine the specific chapter or section title in which the provided text from the book {book} is found. To do this, you'll be given the current text and preceding context. Please update the given information with the relevant chapter or section name, or provide a new one if the text introduces a different section. <|im_end|>\n",
    "<|im_start|>user\n",
    "## Previous Context\n",
    "{previous_context} \n",
    "## Current Text\n",
    "{text} <|im_end|>\n",
    "<|im_start|>assistant\n",
    "\"\"\"\n",
    "\n",
    "# assistant_preprompt = \"The contex of the current content is: \"\n",
    "\n",
    "sampling_params = SamplingParams(temperature=0.1, max_tokens=128)"
   ]
  },
  {
   "cell_type": "code",
   "execution_count": 152,
   "metadata": {},
   "outputs": [],
   "source": [
    "def generate_prompt(previous_context, book, text):\n",
    "    return template.format(previous_context = previous_context, book = book, text = text) + assistant_preprompt\n"
   ]
  },
  {
   "cell_type": "code",
   "execution_count": 153,
   "metadata": {},
   "outputs": [],
   "source": [
    "def get_next_contexts(previous_contexts, books, texts):\n",
    "    prompts = [generate_prompt(previous_context, book, text) for previous_context, book, text in zip(previous_contexts, books, texts)]\n",
    "    outputs = llm.generate(prompts, sampling_params)\n",
    "    contexts = [output.outputs[0].text for output in outputs]\n",
    "    return contexts\n"
   ]
  },
  {
   "cell_type": "code",
   "execution_count": 154,
   "metadata": {},
   "outputs": [],
   "source": [
    "# generate a random file_paras\n",
    "\n",
    "file_paras = {}\n",
    "\n",
    "file_paras = {file_name: files_para_groups_dict[file_name][:5] for file_name in files_para_groups_dict.keys()}\n",
    "\n",
    "\n",
    "# file_paras = dict(files_para_groups_dict)\n",
    "\n"
   ]
  },
  {
   "cell_type": "code",
   "execution_count": 155,
   "metadata": {},
   "outputs": [
    {
     "name": "stderr",
     "output_type": "stream",
     "text": [
      "Processed prompts:   0%|          | 0/18 [00:00<?, ?it/s]"
     ]
    },
    {
     "name": "stderr",
     "output_type": "stream",
     "text": [
      "Processed prompts: 100%|██████████| 18/18 [00:03<00:00,  5.68it/s]\n",
      "Processed prompts: 100%|██████████| 18/18 [00:03<00:00,  5.38it/s]\n",
      "Processed prompts: 100%|██████████| 18/18 [00:03<00:00,  5.37it/s]\n",
      "Processed prompts: 100%|██████████| 18/18 [00:03<00:00,  5.37it/s]\n",
      "Processed prompts: 100%|██████████| 18/18 [00:03<00:00,  5.01it/s]\n"
     ]
    }
   ],
   "source": [
    "result_dict = {book: [] for book in file_paras.keys()}\n",
    "current_active_contexts = {book: \"Current section is the first section. No previous context.\" for book in file_paras.keys()}\n",
    "\n",
    "i = 0\n",
    "while len(current_active_contexts) > 0:\n",
    "    books_active = list(current_active_contexts.keys())\n",
    "    previous_contexts = [current_active_contexts[book] for book in books_active]\n",
    "    texts = [file_paras[book][i] for book in books_active]\n",
    "    next_contexts = get_next_contexts(previous_contexts, books_active, texts)\n",
    "    for book, next_context in zip(books_active, next_contexts):\n",
    "        result_dict[book].append(next_context)\n",
    "        current_active_contexts[book] = next_context\n",
    "    i += 1\n",
    "    # remove books that have reached the end\n",
    "    current_active_contexts = {book: context for book, context in current_active_contexts.items() if i <\n",
    "                                len(file_paras[book])}"
   ]
  },
  {
   "cell_type": "code",
   "execution_count": 156,
   "metadata": {},
   "outputs": [
    {
     "name": "stdout",
     "output_type": "stream",
     "text": [
      "Book: Physiology_Levy\n",
      "5\n",
      "=======================================\n",
      "Book: Cell_Biology_Alberts\n",
      "5\n",
      "=======================================\n",
      "Book: Pathoma_Husain\n",
      "5\n",
      "=======================================\n",
      "Book: Psichiatry_DSM-5\n",
      "5\n",
      "=======================================\n",
      "Book: Immunology_Janeway\n",
      "5\n",
      "=======================================\n",
      "Book: Anatomy_Gray\n",
      "5\n",
      "=======================================\n",
      "Book: Pharmacology_Katzung\n",
      "5\n",
      "=======================================\n",
      "Book: Surgery_Schwartz\n",
      "5\n",
      "=======================================\n",
      "Book: Biochemistry_Lippincott\n",
      "5\n",
      "=======================================\n",
      "Book: Neurology_Adams\n",
      "5\n",
      "=======================================\n",
      "Book: First_Aid_Step2\n",
      "5\n",
      "=======================================\n",
      "Book: Obstentrics_Williams\n",
      "5\n",
      "=======================================\n",
      "Book: Histology_Ross\n",
      "5\n",
      "=======================================\n",
      "Book: InternalMed_Harrison\n",
      "5\n",
      "=======================================\n",
      "Book: Pediatrics_Nelson\n",
      "5\n",
      "=======================================\n",
      "Book: Gynecology_Novak\n",
      "5\n",
      "=======================================\n",
      "Book: First_Aid_Step1\n",
      "5\n",
      "=======================================\n",
      "Book: Pathology_Robbins\n",
      "5\n",
      "=======================================\n"
     ]
    }
   ],
   "source": [
    "result_dict\n",
    "\n",
    "for book, contexts in result_dict.items():\n",
    "    print(f\"Book: {book}\")\n",
    "    print(len(contexts))\n",
    "    print(\"=======================================\")"
   ]
  },
  {
   "cell_type": "code",
   "execution_count": 157,
   "metadata": {},
   "outputs": [
    {
     "data": {
      "text/html": [
       "<div>\n",
       "<style scoped>\n",
       "    .dataframe tbody tr th:only-of-type {\n",
       "        vertical-align: middle;\n",
       "    }\n",
       "\n",
       "    .dataframe tbody tr th {\n",
       "        vertical-align: top;\n",
       "    }\n",
       "\n",
       "    .dataframe thead th {\n",
       "        text-align: right;\n",
       "    }\n",
       "</style>\n",
       "<table border=\"1\" class=\"dataframe\">\n",
       "  <thead>\n",
       "    <tr style=\"text-align: right;\">\n",
       "      <th></th>\n",
       "      <th>file_name</th>\n",
       "      <th>para</th>\n",
       "      <th>context</th>\n",
       "    </tr>\n",
       "  </thead>\n",
       "  <tbody>\n",
       "    <tr>\n",
       "      <th>0</th>\n",
       "      <td>Physiology_Levy</td>\n",
       "      <td>We are pleased that the following section auth...</td>\n",
       "      <td>\\n\\n\"We are pleased that the following section...</td>\n",
       "    </tr>\n",
       "    <tr>\n",
       "      <th>1</th>\n",
       "      <td>Physiology_Levy</td>\n",
       "      <td>iscipline of physiology and are presented thro...</td>\n",
       "      <td>\\n\\n\"Cells need a constant supply of energy. T...</td>\n",
       "    </tr>\n",
       "    <tr>\n",
       "      <th>2</th>\n",
       "      <td>Physiology_Levy</td>\n",
       "      <td>Liver: Converts precursors into fuel storage f...</td>\n",
       "      <td>\\n\\nChapter 1: Cellular Energy Metabolism\\nSec...</td>\n",
       "    </tr>\n",
       "    <tr>\n",
       "      <th>3</th>\n",
       "      <td>Physiology_Levy</td>\n",
       "      <td>Adipose tissue: Stores fuel during feeding (e....</td>\n",
       "      <td>\\n\\nChapter 1: Cellular Energy Metabolism\\nSec...</td>\n",
       "    </tr>\n",
       "    <tr>\n",
       "      <th>4</th>\n",
       "      <td>Physiology_Levy</td>\n",
       "      <td>Nervous system: Monitors oxygen levels and nut...</td>\n",
       "      <td>\\n\\nChapter 1: Cellular Energy Metabolism\\nSec...</td>\n",
       "    </tr>\n",
       "  </tbody>\n",
       "</table>\n",
       "</div>"
      ],
      "text/plain": [
       "         file_name                                               para  \\\n",
       "0  Physiology_Levy  We are pleased that the following section auth...   \n",
       "1  Physiology_Levy  iscipline of physiology and are presented thro...   \n",
       "2  Physiology_Levy  Liver: Converts precursors into fuel storage f...   \n",
       "3  Physiology_Levy  Adipose tissue: Stores fuel during feeding (e....   \n",
       "4  Physiology_Levy  Nervous system: Monitors oxygen levels and nut...   \n",
       "\n",
       "                                             context  \n",
       "0  \\n\\n\"We are pleased that the following section...  \n",
       "1  \\n\\n\"Cells need a constant supply of energy. T...  \n",
       "2  \\n\\nChapter 1: Cellular Energy Metabolism\\nSec...  \n",
       "3  \\n\\nChapter 1: Cellular Energy Metabolism\\nSec...  \n",
       "4  \\n\\nChapter 1: Cellular Energy Metabolism\\nSec...  "
      ]
     },
     "execution_count": 157,
     "metadata": {},
     "output_type": "execute_result"
    }
   ],
   "source": [
    "# save the result as csv after converting to dataframe\n",
    "# would need to flatten the dict of lists \n",
    "\n",
    "file_names = []\n",
    "para = []\n",
    "context_list = []\n",
    "for file_name, contexts in result_dict.items():\n",
    "    for i, context in enumerate(contexts):\n",
    "        file_names.append(file_name)\n",
    "        para.append(file_paras[file_name][i])\n",
    "        context_list.append(context)\n",
    "\n",
    "import pandas as pd\n",
    "\n",
    "df = pd.DataFrame({\"file_name\": file_names, \"para\": para, \"context\": context_list})\n",
    "\n",
    "df.to_csv(\"data/contexts.csv\", index = False)\n",
    "\n",
    "df.head()"
   ]
  },
  {
   "cell_type": "code",
   "execution_count": 158,
   "metadata": {},
   "outputs": [
    {
     "name": "stdout",
     "output_type": "stream",
     "text": [
      "Context 0\n",
      "\n",
      "\n",
      "\"We are pleased that the following section authors have continued as members of the seventh edition team: Drs. Kalman Rubinson and Eric Lang (nervous system), Dr. James Watras (muscle), Dr. Achilles Pappano (cardiovascular system), Drs. Michelle Cloutier and Roger Thrall (respiratory system), Drs. Kim Barrett and Helen Raybould (gastrointestinal system), and Dr. Bruce White (endocrine and reproductive systems). We also welcome the following authors: Dr. Withrow Gil Wier (cardiov\n",
      "=======================================\n",
      "Context 1\n",
      "\n",
      "\n",
      "\"Cells need a constant supply of energy. This energy is derived from the hydrolysis of adenosine triphosphate (ATP). If not replenished, the cellular ATP supply would be depleted in most cells in less than 1 minute. Thus, ATP must be continuously synthesized. This in turn requires a steady supply of cellular fuels. However, the cellular fuels (e.g., glucose, fatty acids, and ketoacids) are present in the blood at levels that can support cellular metabolism only for\n",
      "=======================================\n",
      "Context 2\n",
      "\n",
      "\n",
      "Chapter 1: Cellular Energy Metabolism\n",
      "Section 1.2: Cellular Fuels and Energy Production\n",
      "=======================================\n",
      "Context 3\n",
      "\n",
      "\n",
      "Chapter 1: Cellular Energy Metabolism\n",
      "Section 1.2: Cellular Fuels and Energy Production\n",
      "\n",
      "The provided text is about the role of adipose tissue, cardiovascular system, and endocrine system in storing and releasing cellular fuels. This content is part of the section discussing cellular fuels and energy production.\n",
      "=======================================\n",
      "Context 4\n",
      "\n",
      "\n",
      "Chapter 1: Cellular Energy Metabolism\n",
      "Section 1.3: Cellular Homeostasis and Transport Proteins\n",
      "\n",
      "The provided text discusses the role of the nervous system, cardiovascular system, pulmonary system, and endocrine system in maintaining cellular homeostasis and transport proteins. It also covers the regulation of extracellular fluid composition, volume, and temperature, as well as the role of the kidneys and lungs in maintaining steady-state balance and pH.\n",
      "=======================================\n",
      "Context 5\n",
      "\n",
      "\n",
      "Chapter 1: Introduction to Cell Biology\n",
      "Section 1.1: The Nature of Life and the Importance of Cells\n",
      "=======================================\n",
      "Context 6\n",
      "\n",
      "\n",
      "Chapter 1: Introduction to Cell Biology\n",
      "Section 1.1: The Nature of Life and the Importance of Cells\n",
      "\n",
      "The current text is found in the section:\n",
      "\n",
      "Section 1.1: The Nature of Life and the Importance of Cells\n",
      "=======================================\n",
      "Context 7\n",
      "\n",
      "\n",
      "Section 1.1: The Nature of Life and the Importance of Cells\n",
      "\n",
      "The text discusses the concept of heredity and its role in defining life, as well as the consumption of free energy by living organisms to maintain their organization. This section focuses on the fundamental aspects of life and the importance of cells in living organisms.\n",
      "=======================================\n",
      "Context 8\n",
      "\n",
      "\n",
      "Section 1.2: The Cell as the Basic Unit of Life\n",
      "\n",
      "This section discusses the concept of cells as the fundamental unit of life, emphasizing their role in heredity and the storage of genetic information. It also highlights the importance of cells in multicellular organisms and their ability to divide and create new cells with the same hereditary information.\n",
      "=======================================\n",
      "Context 9\n",
      "\n",
      "\n",
      "Chapter 1: The Cell as the Basic Unit of Life\n",
      "Section 1.3: The Genetic Information in Cells\n",
      "\n",
      "This section discusses the concept of cells as the fundamental unit of life, emphasizing their role in heredity and the storage of genetic information. It also highlights the importance of cells in multicellular organisms and their ability to divide and create new cells with the same hereditary information.\n",
      "=======================================\n"
     ]
    }
   ],
   "source": [
    "# print some of the contexts\n",
    "\n",
    "for i in range(10):\n",
    "    print(f\"Context {i}\")\n",
    "    print(df.context[i])\n",
    "    print(\"=======================================\")"
   ]
  },
  {
   "cell_type": "code",
   "execution_count": 159,
   "metadata": {},
   "outputs": [],
   "source": [
    "# write to a temp file\n",
    "\n",
    "with open(\"data/contexts.txt\", \"w\") as f:\n",
    "    for i in range(len(df)):\n",
    "        f.write(df.context[i] + \"\\n\")"
   ]
  },
  {
   "cell_type": "code",
   "execution_count": null,
   "metadata": {},
   "outputs": [],
   "source": []
  },
  {
   "cell_type": "code",
   "execution_count": null,
   "metadata": {},
   "outputs": [],
   "source": []
  },
  {
   "cell_type": "code",
   "execution_count": null,
   "metadata": {},
   "outputs": [],
   "source": []
  },
  {
   "cell_type": "code",
   "execution_count": null,
   "metadata": {},
   "outputs": [],
   "source": []
  }
 ],
 "metadata": {
  "kernelspec": {
   "display_name": "llm",
   "language": "python",
   "name": "python3"
  },
  "language_info": {
   "codemirror_mode": {
    "name": "ipython",
    "version": 3
   },
   "file_extension": ".py",
   "mimetype": "text/x-python",
   "name": "python",
   "nbconvert_exporter": "python",
   "pygments_lexer": "ipython3",
   "version": "3.10.13"
  }
 },
 "nbformat": 4,
 "nbformat_minor": 2
}
